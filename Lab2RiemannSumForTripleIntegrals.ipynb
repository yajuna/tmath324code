{
 "cells": [
  {
   "cell_type": "markdown",
   "metadata": {},
   "source": [
    "This lab plays with the definition of triple integral. We explore the Riemann sum, and see how the value of the Riemann sum converges to the value of the triple integral. We will play with the integral $\\iiint_R 8xyz\\ dV$, on the region $R=[0,1]\\times [1,2]\\times[2,3]$. "
   ]
  },
  {
   "cell_type": "code",
   "execution_count": null,
   "metadata": {},
   "outputs": [],
   "source": [
    "## Compute the above integral by hand, type your solution here."
   ]
  },
  {
   "cell_type": "markdown",
   "metadata": {},
   "source": [
    "We have discussed in class, that triple integrals are defined to be the limit of the Riemann sum\n",
    "$$\\iiint_R f(x,y,z)\\ dV = \\lim_{m\\to\\infty}\\lim_{n\\to\\infty}\\lim_{l\\to\\infty}\\sum^m_{i=1}\\sum^n_{j=1}\\sum^l_{k=1}f(x_i,y_j,z_k)\\Delta V.$$\n",
    "\n",
    "We investigate the convergence as $m,\\ n,\\ l$ gets bigger and bigger. "
   ]
  },
  {
   "cell_type": "code",
   "execution_count": null,
   "metadata": {},
   "outputs": [],
   "source": [
    "## import packages, and conventional abbrev.\n",
    "import numpy as np\n",
    "import scipy as sp\n",
    "import matplotlib \n",
    "import matplotlib.pyplot as plt"
   ]
  },
  {
   "cell_type": "code",
   "execution_count": null,
   "metadata": {},
   "outputs": [],
   "source": [
    "# cut the region in m by n by l pieces. \n",
    "m,n,l = 50,60,70\n",
    "\n",
    "x = np.linspace(0,1,m)\n",
    "y = np.linspace(1,2,n)\n",
    "z = np.linspace(2,3,l)\n",
    "\n",
    "# meshgrid to set up 3D grid points\n",
    "X, Y, Z = np.meshgrid(x,y,z,indexing = 'ij')\n",
    "\n",
    "# compute dx, dy, dz, and compute dV = dx*dy*dz\n",
    "dx = x[1] - x[0]\n",
    "dy = y[1] - y[0]\n",
    "dz = z[1] - z[0]\n",
    "\n",
    "dV = dx * dy * dz"
   ]
  },
  {
   "cell_type": "code",
   "execution_count": null,
   "metadata": {},
   "outputs": [],
   "source": [
    "# define function\n",
    "def f(x,y,z):\n",
    "    value = 8*x*y/ (z-2.5)\n",
    "    return value\n",
    "\n",
    "# evaluate function at defined x,y,z values\n",
    "\n",
    "f = f(X, Y, Z)\n",
    "\n",
    "# print shape of f\n",
    "dimension = f.shape\n",
    "\n",
    "print(dimension)"
   ]
  },
  {
   "cell_type": "code",
   "execution_count": null,
   "metadata": {},
   "outputs": [],
   "source": [
    "# compute triple integral with the given input m, n, and l. \n",
    "\n",
    "riemann = 0\n",
    "\n",
    "for i in range(dimension[0]):\n",
    "    for j in range(dimension[1]):\n",
    "        for k in range(dimension[2]):\n",
    "            riemann = riemann + f[i,j,k] * dV\n",
    "            \n",
    "print('approximate value of triple integral with m,n,l = ', m, n, l, 'is', riemann)            "
   ]
  },
  {
   "cell_type": "code",
   "execution_count": null,
   "metadata": {},
   "outputs": [],
   "source": [
    "# Change the values of m,n,l, and compute a couple of\n",
    "# approximate integrals. When changing the values m, n, \n",
    "# and l, how does the value of riemann change? Show your\n",
    "# experiments here. \n",
    "\n"
   ]
  },
  {
   "cell_type": "code",
   "execution_count": null,
   "metadata": {},
   "outputs": [],
   "source": [
    "# Change the function and region, repeat above experiment. "
   ]
  }
 ],
 "metadata": {
  "kernelspec": {
   "display_name": "Python 3",
   "language": "python",
   "name": "python3"
  },
  "language_info": {
   "codemirror_mode": {
    "name": "ipython",
    "version": 3
   },
   "file_extension": ".py",
   "mimetype": "text/x-python",
   "name": "python",
   "nbconvert_exporter": "python",
   "pygments_lexer": "ipython3",
   "version": "3.6.9"
  }
 },
 "nbformat": 4,
 "nbformat_minor": 4
}
